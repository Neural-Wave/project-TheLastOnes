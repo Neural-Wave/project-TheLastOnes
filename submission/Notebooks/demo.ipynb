{
 "cells": [
  {
   "cell_type": "code",
   "execution_count": 1,
   "metadata": {},
   "outputs": [],
   "source": [
    "import torch\n",
    "from transformers import AutoTokenizer, AutoModelForTokenClassification\n",
    "import string\n",
    "\n",
    "device = torch.device(\"cuda\" if torch.cuda.is_available() else \"cpu\")\n",
    "\n",
    "def mask_pii(model, tokenizer, text, aggregate_redaction=True):\n",
    "\n",
    "    # Tokenize input text\n",
    "    inputs = tokenizer(text, return_tensors=\"pt\", truncation=True, padding=True, max_length=512)\n",
    "    inputs = {k: v.to(device) for k, v in inputs.items()}\n",
    "\n",
    "    # Get the model predictions\n",
    "    with torch.no_grad():\n",
    "        outputs = model(**inputs)\n",
    "\n",
    "    # Get the predicted labels\n",
    "    predictions = torch.argmax(outputs.logits, dim=-1)\n",
    "\n",
    "    # Convert token predictions to word predictions\n",
    "    encoded_inputs = tokenizer.encode_plus(text, return_offsets_mapping=True, add_special_tokens=True, max_length=512, truncation=True)\n",
    "    offset_mapping = encoded_inputs['offset_mapping']\n",
    "\n",
    "    masked_text = list(text)\n",
    "    is_redacting = False\n",
    "    redaction_start = 0\n",
    "    current_pii_type = ''\n",
    "\n",
    "    for i, (start, end) in enumerate(offset_mapping):\n",
    "        if start == end:  # Special token\n",
    "            continue\n",
    "\n",
    "        label = predictions[0][i].item()\n",
    "        if label != model.config.label2id['O']:  # Non-O label\n",
    "            pii_type = model.config.id2label[label]\n",
    "            pii_type = pii_type.split('-')[-1]  # Remove B- or I- prefix\n",
    "            if not is_redacting:\n",
    "                is_redacting = True\n",
    "                redaction_start = start\n",
    "                current_pii_type = pii_type\n",
    "            elif not aggregate_redaction and pii_type != current_pii_type:\n",
    "                # End current redaction and start a new one\n",
    "                apply_redaction(masked_text, redaction_start, start, current_pii_type, aggregate_redaction)\n",
    "                redaction_start = start\n",
    "                current_pii_type = pii_type\n",
    "        else:\n",
    "            if is_redacting:\n",
    "                apply_redaction(masked_text, redaction_start, end, current_pii_type, aggregate_redaction)\n",
    "                is_redacting = False\n",
    "\n",
    "    # Handle case where PII is at the end of the text\n",
    "    if is_redacting:\n",
    "        apply_redaction(masked_text, redaction_start, len(masked_text), current_pii_type, aggregate_redaction)\n",
    "\n",
    "    return ''.join(masked_text)\n",
    "    \n",
    "def apply_redaction(masked_text, start, end, pii_type, aggregate_redaction):\n",
    "    # Remove content in the range to prepare for redaction insertion\n",
    "    for j in range(start, end):\n",
    "        masked_text[j] = ''\n",
    "\n",
    "    # Set replacement text based on redaction preference\n",
    "    if aggregate_redaction:\n",
    "        replacement = '[redacted]'\n",
    "    else:\n",
    "        replacement = f'[{pii_type}]'\n",
    "\n",
    "    # Ensure a space before the replacement if it’s not the start of the text and the previous character isn’t a space\n",
    "    if start > 0 and masked_text[start - 1] not in (' ', ''):\n",
    "        replacement = ' ' + replacement\n",
    "\n",
    "    # Ensure a space after the replacement if the following character isn’t punctuation or a space\n",
    "    if end < len(masked_text) and masked_text[end] not in string.punctuation + \" \":\n",
    "        replacement = replacement + ' '\n",
    "\n",
    "    # Place the replacement at the start index\n",
    "    masked_text[start] = replacement"
   ]
  },
  {
   "cell_type": "code",
   "execution_count": 2,
   "metadata": {},
   "outputs": [],
   "source": [
    "# Example from https://huggingface.co/iiiorg/piiranha-v1-detect-personal-information/discussions/4\n",
    "example_text = \"My name is Obee Nobi and I live at 432423 Deka St., Tanooti. My phone number is 5455 123 4567.\""
   ]
  },
  {
   "cell_type": "code",
   "execution_count": 3,
   "metadata": {},
   "outputs": [
    {
     "name": "stdout",
     "output_type": "stream",
     "text": [
      "Detailed redaction:\n",
      "My name is [GIVENNAME][SURNAME] I live at [BUILDINGNUM][STREET]., [CITY] My phone number is 5455 123 4567.\n"
     ]
    }
   ],
   "source": [
    "# Piiranha model\n",
    "model_name = \"iiiorg/piiranha-v1-detect-personal-information\"\n",
    "tokenizer = AutoTokenizer.from_pretrained(model_name)\n",
    "model = AutoModelForTokenClassification.from_pretrained(model_name)\n",
    "model.to(device)\n",
    "\n",
    "print(\"Detailed redaction:\")\n",
    "masked_example_detailed = mask_pii(model, tokenizer, example_text, aggregate_redaction=False)\n",
    "print(masked_example_detailed)"
   ]
  },
  {
   "cell_type": "code",
   "execution_count": 4,
   "metadata": {},
   "outputs": [
    {
     "name": "stdout",
     "output_type": "stream",
     "text": [
      "Detailed redaction:\n",
      "My name is [GIVENNAME] [SURNAME] I live at 432 [ZIPCODE] ka St., [CITY] My phone number is [TELEPHONENUM]\n"
     ]
    }
   ],
   "source": [
    "# Our Model 1\n",
    "model_name = \"/teamspace/studios/this_studio/submission/results/checkpoint-19533\"\n",
    "tokenizer = AutoTokenizer.from_pretrained(model_name)\n",
    "modelv1 = AutoModelForTokenClassification.from_pretrained(model_name)\n",
    "modelv1.to(device)\n",
    "print(\"Detailed redaction:\")\n",
    "masked_example_detailed = mask_pii(modelv1, tokenizer, example_text, aggregate_redaction=False)\n",
    "print(masked_example_detailed)"
   ]
  },
  {
   "cell_type": "code",
   "execution_count": 5,
   "metadata": {},
   "outputs": [
    {
     "name": "stdout",
     "output_type": "stream",
     "text": [
      "Detailed redaction:\n",
      "My name is [GIVENNAME][SURNAME] I live at [BUILDINGNUM][STREET], [CITY] phone number is [TELEPHONENUM]\n"
     ]
    }
   ],
   "source": [
    "# Our Model 2 \n",
    "model_name = \"/teamspace/studios/this_studio/submission/result_v2/checkpoint-16839\"\n",
    "tokenizer = AutoTokenizer.from_pretrained(model_name)\n",
    "modelv1 = AutoModelForTokenClassification.from_pretrained(model_name)\n",
    "modelv1.to(device)\n",
    "print(\"Detailed redaction:\")\n",
    "masked_example_detailed = mask_pii(modelv1, tokenizer, example_text, aggregate_redaction=False)\n",
    "print(masked_example_detailed)"
   ]
  },
  {
   "cell_type": "code",
   "execution_count": 6,
   "metadata": {},
   "outputs": [
    {
     "name": "stdout",
     "output_type": "stream",
     "text": [
      "Detailed redaction:\n",
      "My name is [GIVENNAME][SURNAME] I live at [BUILDINGNUM] ka St., [CITY] phone number is [TELEPHONENUM]\n"
     ]
    }
   ],
   "source": [
    "# Our Model 3 (experimental)\n",
    "model_name = \"results-noise-5/checkpoint-28065\"\n",
    "tokenizer = AutoTokenizer.from_pretrained(model_name)\n",
    "modelv1 = AutoModelForTokenClassification.from_pretrained(model_name)\n",
    "modelv1.to(device)\n",
    "print(\"Detailed redaction:\")\n",
    "masked_example_detailed = mask_pii(modelv1, tokenizer, example_text, aggregate_redaction=False)\n",
    "print(masked_example_detailed)"
   ]
  },
  {
   "cell_type": "code",
   "execution_count": null,
   "metadata": {},
   "outputs": [],
   "source": []
  }
 ],
 "metadata": {
  "language_info": {
   "name": "python"
  }
 },
 "nbformat": 4,
 "nbformat_minor": 2
}
